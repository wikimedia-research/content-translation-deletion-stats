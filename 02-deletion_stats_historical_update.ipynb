{
 "cells": [
  {
   "cell_type": "markdown",
   "id": "82cd2821-e1f3-49e5-9211-595777001e10",
   "metadata": {},
   "source": [
    "Starting with  2022 Q4 statistics, there was a decision to [change the approach](https://phabricator.wikimedia.org/T343300) in calculating the overall deletion percentages. With the change, we will only be considered Wikipedias, but not all Wikimedia projects. To make the stats comparable with the previous quarters, the analysis has been re-run for all the previous quarters starting with 2021 Q3."
   ]
  },
  {
   "cell_type": "markdown",
   "id": "4519116a-9edf-4a79-8082-042951df199e",
   "metadata": {
    "tags": []
   },
   "source": [
    "## Data-Gathering"
   ]
  },
  {
   "cell_type": "code",
   "execution_count": 2,
   "id": "9c176e41-c90b-4227-bcd9-269a55d0f7f4",
   "metadata": {},
   "outputs": [
    {
     "name": "stdout",
     "output_type": "stream",
     "text": [
      "\n"
     ]
    },
    {
     "name": "stderr",
     "output_type": "stream",
     "text": [
      "You are using Wmfdata v2.0.0, but v2.0.1 is available.\n",
      "\n",
      "To update, run `pip install --upgrade git+https://github.com/wikimedia/wmfdata-python.git@release`.\n",
      "\n",
      "To see the changes, refer to https://github.com/wikimedia/wmfdata-python/blob/release/CHANGELOG.md.\n"
     ]
    }
   ],
   "source": [
    "import numpy as np\n",
    "import pandas as pd\n",
    "import wmfdata as wmf\n",
    "\n",
    "pd.options.display.max_columns = None\n",
    "from IPython.display import clear_output\n",
    "\n",
    "import importlib\n",
    "import warnings\n",
    "\n",
    "import data_functions as dtf"
   ]
  },
  {
   "cell_type": "code",
   "execution_count": 3,
   "id": "da520bc6-45d0-4562-b6c4-3ccbd2067ad3",
   "metadata": {},
   "outputs": [
    {
     "data": {
      "text/plain": [
       "<module 'data_functions' from '/srv/home/kcv-wikimf/gitref/content-translation-deletion-stats/data_functions.py'>"
      ]
     },
     "execution_count": 3,
     "metadata": {},
     "output_type": "execute_result"
    }
   ],
   "source": [
    "importlib.reload(dtf)"
   ]
  },
  {
   "cell_type": "markdown",
   "id": "5fdd9adf-bb24-4319-a187-812605a9a9bb",
   "metadata": {
    "tags": []
   },
   "source": [
    "### spark_session"
   ]
  },
  {
   "cell_type": "code",
   "execution_count": 4,
   "id": "8802636c-6a2e-41b1-bf11-6698641caff3",
   "metadata": {
    "tags": []
   },
   "outputs": [
    {
     "name": "stdout",
     "output_type": "stream",
     "text": [
      "no active session\n"
     ]
    }
   ],
   "source": [
    "spark_session = wmf.spark.get_active_session()\n",
    "\n",
    "if type(spark_session) != type(None):\n",
    "    spark_session.stop()\n",
    "else:\n",
    "    print('no active session')"
   ]
  },
  {
   "cell_type": "code",
   "execution_count": 5,
   "id": "6b4ec3be-d388-44e1-afe5-9d036621a6a3",
   "metadata": {},
   "outputs": [
    {
     "data": {
      "text/html": [
       "\n",
       "            <div>\n",
       "                <p><b>SparkSession - hive</b></p>\n",
       "                \n",
       "        <div>\n",
       "            <p><b>SparkContext</b></p>\n",
       "\n",
       "            <p><a href=\"http://stat1005.eqiad.wmnet:4040\">Spark UI</a></p>\n",
       "\n",
       "            <dl>\n",
       "              <dt>Version</dt>\n",
       "                <dd><code>v3.1.2</code></dd>\n",
       "              <dt>Master</dt>\n",
       "                <dd><code>yarn</code></dd>\n",
       "              <dt>AppName</dt>\n",
       "                <dd><code>cx-deletion-stats</code></dd>\n",
       "            </dl>\n",
       "        </div>\n",
       "        \n",
       "            </div>\n",
       "        "
      ],
      "text/plain": [
       "<pyspark.sql.session.SparkSession at 0x7f32bc3524d0>"
      ]
     },
     "execution_count": 5,
     "metadata": {},
     "output_type": "execute_result"
    }
   ],
   "source": [
    "spark_session = wmf.spark.create_custom_session(\n",
    "    master=\"yarn\",\n",
    "    app_name='cx-deletion-stats',\n",
    "    spark_config={\n",
    "        \"spark.driver.memory\": \"4g\",\n",
    "        \"spark.dynamicAllocation.maxExecutors\": 64,\n",
    "        \"spark.executor.memory\": \"16g\",\n",
    "        \"spark.executor.cores\": 4,\n",
    "        \"spark.sql.shuffle.partitions\": 256,\n",
    "        \"spark.driver.maxResultSize\": \"2g\"\n",
    "        \n",
    "    }\n",
    ")\n",
    "\n",
    "clear_output()\n",
    "\n",
    "spark_session"
   ]
  },
  {
   "cell_type": "code",
   "execution_count": 6,
   "id": "b4d5ef12-be4d-4bc3-aff9-b7f6c708aa72",
   "metadata": {},
   "outputs": [],
   "source": [
    "spark_session.sparkContext.setLogLevel(\"ERROR\")"
   ]
  },
  {
   "cell_type": "markdown",
   "id": "a4bd261b-03ed-4e92-8dfe-1ef669033ecb",
   "metadata": {},
   "source": [
    "### run query"
   ]
  },
  {
   "cell_type": "code",
   "execution_count": 7,
   "id": "426b89b2-841d-4708-8aa5-68d3dac4c21f",
   "metadata": {},
   "outputs": [
    {
     "name": "stderr",
     "output_type": "stream",
     "text": [
      "                                                                                \r"
     ]
    },
    {
     "name": "stdout",
     "output_type": "stream",
     "text": [
      "From 2021-01-01 to 2021-03-31 - deletion rate of CX created articles: 2.8%;                        deletion rate of non-CX created articles: 15.19%\n",
      "\n"
     ]
    },
    {
     "name": "stderr",
     "output_type": "stream",
     "text": [
      "                                                                                \r"
     ]
    },
    {
     "name": "stdout",
     "output_type": "stream",
     "text": [
      "From 2021-04-01 to 2021-06-30 - deletion rate of CX created articles: 3.06%;                        deletion rate of non-CX created articles: 13.78%\n",
      "\n"
     ]
    },
    {
     "name": "stderr",
     "output_type": "stream",
     "text": [
      "                                                                                \r"
     ]
    },
    {
     "name": "stdout",
     "output_type": "stream",
     "text": [
      "From 2021-07-01 to 2021-09-30 - deletion rate of CX created articles: 2.14%;                        deletion rate of non-CX created articles: 12.51%\n",
      "\n"
     ]
    },
    {
     "name": "stderr",
     "output_type": "stream",
     "text": [
      "                                                                                \r"
     ]
    },
    {
     "name": "stdout",
     "output_type": "stream",
     "text": [
      "From 2021-10-01 to 2021-12-31 - deletion rate of CX created articles: 2.77%;                        deletion rate of non-CX created articles: 10.66%\n",
      "\n"
     ]
    },
    {
     "name": "stderr",
     "output_type": "stream",
     "text": [
      "                                                                                \r"
     ]
    },
    {
     "name": "stdout",
     "output_type": "stream",
     "text": [
      "From 2022-01-01 to 2022-03-31 - deletion rate of CX created articles: 3.01%;                        deletion rate of non-CX created articles: 11.99%\n",
      "\n"
     ]
    },
    {
     "name": "stderr",
     "output_type": "stream",
     "text": [
      "                                                                                \r"
     ]
    },
    {
     "name": "stdout",
     "output_type": "stream",
     "text": [
      "From 2022-04-01 to 2022-06-30 - deletion rate of CX created articles: 3.16%;                        deletion rate of non-CX created articles: 12.82%\n",
      "\n"
     ]
    },
    {
     "name": "stderr",
     "output_type": "stream",
     "text": [
      "                                                                                \r"
     ]
    },
    {
     "name": "stdout",
     "output_type": "stream",
     "text": [
      "From 2022-07-01 to 2022-09-30 - deletion rate of CX created articles: 2.93%;                        deletion rate of non-CX created articles: 11.44%\n",
      "\n"
     ]
    },
    {
     "name": "stderr",
     "output_type": "stream",
     "text": [
      "                                                                                \r"
     ]
    },
    {
     "name": "stdout",
     "output_type": "stream",
     "text": [
      "From 2022-10-01 to 2022-12-31 - deletion rate of CX created articles: 3.42%;                        deletion rate of non-CX created articles: 12.93%\n",
      "\n"
     ]
    },
    {
     "name": "stderr",
     "output_type": "stream",
     "text": [
      "                                                                                \r"
     ]
    },
    {
     "name": "stdout",
     "output_type": "stream",
     "text": [
      "From 2023-01-01 to 2023-03-31 - deletion rate of CX created articles: 3.58%;                        deletion rate of non-CX created articles: 12.68%\n",
      "\n"
     ]
    },
    {
     "name": "stderr",
     "output_type": "stream",
     "text": [
      "[Stage 29:===========================================>         (209 + 47) / 256]\r"
     ]
    },
    {
     "name": "stdout",
     "output_type": "stream",
     "text": [
      "From 2023-04-01 to 2023-06-30 - deletion rate of CX created articles: 3.62%;                        deletion rate of non-CX created articles: 13.05%\n",
      "\n",
      "CPU times: user 2.99 s, sys: 749 ms, total: 3.74 s\n",
      "Wall time: 14min 3s\n"
     ]
    },
    {
     "name": "stderr",
     "output_type": "stream",
     "text": [
      "                                                                                \r"
     ]
    }
   ],
   "source": [
    "%%time\n",
    "\n",
    "for y in [2020, 2021, 2022]:\n",
    "        for q in [f'Q{_}' for _ in range(1, 4+1)]:\n",
    "            if (y == 2020) & (q in ['Q1', 'Q2']):\n",
    "                pass\n",
    "            else:\n",
    "                quarter = dtf.generate_quarters(y)[q]\n",
    "                quarter['mw_snapshot'] = '2023-08'\n",
    "                quarterly_stats = dtf.query_deletion_stats(quarter)\n",
    "                overall_deletion_rate = dtf.overall_deletion_pct(quarterly_stats)\n",
    "                print(f'From {quarter[\"start_dt\"]} to {quarter[\"end_dt\"]} - deletion rate of CX created articles: {overall_deletion_rate[\"deleted_cx_pct\"]}%;\\\n",
    "                        deletion rate of non-CX created articles: {overall_deletion_rate[\"deleted_non_cx_pct\"]}%\\n')"
   ]
  }
 ],
 "metadata": {
  "kernelspec": {
   "display_name": "Python 3 (ipykernel)",
   "language": "python",
   "name": "python3"
  },
  "language_info": {
   "codemirror_mode": {
    "name": "ipython",
    "version": 3
   },
   "file_extension": ".py",
   "mimetype": "text/x-python",
   "name": "python",
   "nbconvert_exporter": "python",
   "pygments_lexer": "ipython3",
   "version": "3.10.8"
  }
 },
 "nbformat": 4,
 "nbformat_minor": 5
}

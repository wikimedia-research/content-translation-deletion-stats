{
 "cells": [
  {
   "cell_type": "markdown",
   "id": "6d2d64ec-1cac-4d60-b961-fb9cd219241a",
   "metadata": {
    "tags": []
   },
   "source": [
    "# Content Translation Article Deletion Ratios, across all wikis\n",
    "\n",
    "**Last updated on 19 February 2023**\n",
    "\n",
    "[TASK: T351883](https://phabricator.wikimedia.org/T351883)"
   ]
  },
  {
   "cell_type": "markdown",
   "id": "ed1bf803-1965-4432-81a5-43cca8ff7fdf",
   "metadata": {},
   "source": [
    "# Contents\n",
    "\n",
    "1. [Overview](#Overview)\n",
    "2. [Data Gathering](#Data-Gathering)\n",
    "3. [Analysis](#Analysis)\n",
    "    * [Current Quarter - FY23 Q2](#Current-Quarter)\n",
    "    * [Previous Quarter - FY23 Q1](#Previous-Quarter)\n",
    "4. [Formatting](#Formatting)"
   ]
  },
  {
   "cell_type": "markdown",
   "id": "6cf202e3-3b0e-4b80-994b-065dc52b5910",
   "metadata": {},
   "source": [
    "# Overview\n",
    "\n",
    "## Purpose\n",
    "The purpose of this analysis is to identify and list the number of wikis where the deletion rate of articles created with content translation is higher than the deletion rate for articles created with other tools. Specifically, we want to answer the following questions:\n",
    "* How many wikis have translations deleted more often than regular articles?\n",
    "* Which are these wikis?\n",
    "* Has the number of those wikis reduced compared to the previous period?\n",
    "* How high is the highest deletion ratio a wiki has for translations?\n",
    "* This analysis will be used as a baseline to assess the evolution of deletion rates as improvements are made.\n",
    "\n",
    "## Summary\n",
    "* The deletion rate for CX created articles (2.88%) is significantly less than that of non-CX created articles (13.21%).\n",
    "    * This was the lowest deletion rate for CX created articles after December 2021.\n",
    "* There were [4 wikis](https://www.mediawiki.org/wiki/Content_translation/Deletion_statistics_comparison#October_through_December_2023_(Q2_2023)) had at least 2% higher deletion rate of CX created articles than the ones that were not. \n",
    "    * Two of these wikis had higher deletion rates for CX created articles during the last quarter as well.\n",
    "    * Kurdish (kuwiki) has been on the list for the last four quarters, and Occitan (ocwiki) for the last three quarters."
   ]
  },
  {
   "cell_type": "markdown",
   "id": "022fee1d-149a-4abc-97c1-60d8adf712c8",
   "metadata": {
    "tags": []
   },
   "source": [
    "# Data-Gathering"
   ]
  },
  {
   "cell_type": "markdown",
   "id": "aaef8a03-4f67-4e09-95fa-285fb15b9604",
   "metadata": {},
   "source": [
    "## Setup"
   ]
  },
  {
   "cell_type": "code",
   "execution_count": 7,
   "id": "f2e8e3f7-c9b8-4bc3-a379-7b0259443248",
   "metadata": {},
   "outputs": [],
   "source": [
    "import numpy as np\n",
    "import pandas as pd\n",
    "import wmfdata as wmf\n",
    "\n",
    "pd.options.display.max_columns = None\n",
    "from IPython.display import clear_output\n",
    "\n",
    "import importlib\n",
    "import warnings\n",
    "\n",
    "import data_functions as dtf\n",
    "import formatting_functions as ftf"
   ]
  },
  {
   "cell_type": "code",
   "execution_count": 8,
   "id": "3139d8ec-d87f-48a0-a203-74b0a19b1c3d",
   "metadata": {},
   "outputs": [
    {
     "data": {
      "text/plain": [
       "<module 'formatting_functions' from '/srv/home/kcv-wikimf/gitref/content-translation-deletion-stats/formatting_functions.py'>"
      ]
     },
     "execution_count": 8,
     "metadata": {},
     "output_type": "execute_result"
    }
   ],
   "source": [
    "importlib.reload(dtf)\n",
    "importlib.reload(ftf)"
   ]
  },
  {
   "cell_type": "code",
   "execution_count": 9,
   "id": "cd65304b-5d5f-40ca-8f2b-41c5b15c6195",
   "metadata": {},
   "outputs": [
    {
     "data": {
      "text/html": [
       "\n",
       "            <div>\n",
       "                <p><b>SparkSession - hive</b></p>\n",
       "                \n",
       "        <div>\n",
       "            <p><b>SparkContext</b></p>\n",
       "\n",
       "            <p><a href=\"http://stat1005.eqiad.wmnet:4041\">Spark UI</a></p>\n",
       "\n",
       "            <dl>\n",
       "              <dt>Version</dt>\n",
       "                <dd><code>v3.1.2</code></dd>\n",
       "              <dt>Master</dt>\n",
       "                <dd><code>yarn</code></dd>\n",
       "              <dt>AppName</dt>\n",
       "                <dd><code>cx-funnel-entrypoints</code></dd>\n",
       "            </dl>\n",
       "        </div>\n",
       "        \n",
       "            </div>\n",
       "        "
      ],
      "text/plain": [
       "<pyspark.sql.session.SparkSession at 0x7fb36945de10>"
      ]
     },
     "execution_count": 9,
     "metadata": {},
     "output_type": "execute_result"
    }
   ],
   "source": [
    "spark_session = wmf.spark.get_active_session()\n",
    "\n",
    "if type(spark_session) == type(None):\n",
    "    spark_session = wmf.spark.create_custom_session(\n",
    "        master=\"yarn\",\n",
    "        app_name='cx-funnel-entrypoints',\n",
    "        spark_config={\n",
    "            \"spark.driver.memory\": \"4g\",\n",
    "            \"spark.dynamicAllocation.maxExecutors\": 64,\n",
    "            \"spark.executor.memory\": \"16g\",\n",
    "            \"spark.executor.cores\": 4,\n",
    "            \"spark.sql.shuffle.partitions\": 256,\n",
    "            \"spark.driver.maxResultSize\": \"2g\"\n",
    "        }\n",
    "    )\n",
    "\n",
    "spark_session.sparkContext.setLogLevel(\"ERROR\")\n",
    "\n",
    "clear_output()\n",
    "\n",
    "spark_session"
   ]
  },
  {
   "cell_type": "markdown",
   "id": "74e6b40e-a6ad-40e5-9c0d-1873e7b76fd5",
   "metadata": {},
   "source": [
    "## run query"
   ]
  },
  {
   "cell_type": "code",
   "execution_count": 10,
   "id": "718001d4-987e-4cc7-8e30-c704eedc8cf3",
   "metadata": {},
   "outputs": [],
   "source": [
    "currq_dates = dtf.generate_quarters(2023)['Q2']\n",
    "prevq_dates = dtf.generate_quarters(2023)['Q1']"
   ]
  },
  {
   "cell_type": "code",
   "execution_count": 11,
   "id": "819bdab7-121c-48bb-8730-e288e6b1f2a2",
   "metadata": {},
   "outputs": [
    {
     "name": "stderr",
     "output_type": "stream",
     "text": [
      "[Stage 4:====================================================>(8191 + 1) / 8192]\r"
     ]
    },
    {
     "name": "stdout",
     "output_type": "stream",
     "text": [
      "CPU times: user 942 ms, sys: 220 ms, total: 1.16 s\n",
      "Wall time: 4min 25s\n"
     ]
    },
    {
     "name": "stderr",
     "output_type": "stream",
     "text": [
      "                                                                                \r"
     ]
    }
   ],
   "source": [
    "%%time\n",
    "\n",
    "warnings.filterwarnings('ignore')\n",
    "\n",
    "deletion_stats_currq_all = dtf.query_deletion_stats(currq_dates)\n",
    "deletion_stats_prevq_all = dtf.query_deletion_stats(prevq_dates)"
   ]
  },
  {
   "cell_type": "markdown",
   "id": "2fc4e090-4c76-4971-b79b-6d4d807f2aec",
   "metadata": {},
   "source": [
    "# Analysis"
   ]
  },
  {
   "cell_type": "markdown",
   "id": "9833d970-ba25-4b62-be25-e9ee7f70680d",
   "metadata": {},
   "source": [
    "## Current-Quarter"
   ]
  },
  {
   "cell_type": "code",
   "execution_count": 12,
   "id": "e3fc0f9a-a49c-427d-a77e-6207a6533d01",
   "metadata": {},
   "outputs": [
    {
     "name": "stdout",
     "output_type": "stream",
     "text": [
      "During FY23-Q2, overall percentage of articles that were deleted,\n",
      "\t- created using the Content Translation tool: 2.88%\n",
      "\t- created without using the Content Translation Tool: 13.21%\n"
     ]
    }
   ],
   "source": [
    "# overal deletion percent\n",
    "dtf.overall_deletion_pct(deletion_stats_currq_all, period='FY23-Q2', pr=True)"
   ]
  },
  {
   "cell_type": "code",
   "execution_count": 13,
   "id": "66a25161-0cfb-49f0-aba1-f2f00d10c822",
   "metadata": {},
   "outputs": [],
   "source": [
    "# deletion ratio by wiki\n",
    "deletion_stats_currq = dtf.generate_ratios_by_wiki(deletion_stats_currq_all)"
   ]
  },
  {
   "cell_type": "code",
   "execution_count": 33,
   "id": "60d661f6-5b18-4d88-80ba-6a5987dbbd2b",
   "metadata": {},
   "outputs": [
    {
     "name": "stdout",
     "output_type": "stream",
     "text": [
      "During FY23-Q2, across all wikis where more than 15 articles have been created with the Content Translation tool,\n",
      "there were 4 wikis where the deletion rate of articles created using CX was atleast 2% higher than articles created without using CX.\n"
     ]
    }
   ],
   "source": [
    "print(f'During FY23-Q2, across all wikis where more than 15 articles have been created with the Content Translation tool,\\n\\\n",
    "there were {deletion_stats_currq.query(\"\"\"deletion_pct_diff <= -2\"\"\").shape[0]} wikis where the deletion rate of articles created \\\n",
    "using CX was atleast 2% higher than articles created without using CX.')"
   ]
  },
  {
   "cell_type": "code",
   "execution_count": 34,
   "id": "8430b398-c6df-4879-a505-33c8f6d46b70",
   "metadata": {},
   "outputs": [
    {
     "data": {
      "text/html": [
       "<div>\n",
       "<style scoped>\n",
       "    .dataframe tbody tr th:only-of-type {\n",
       "        vertical-align: middle;\n",
       "    }\n",
       "\n",
       "    .dataframe tbody tr th {\n",
       "        vertical-align: top;\n",
       "    }\n",
       "\n",
       "    .dataframe thead th {\n",
       "        text-align: right;\n",
       "    }\n",
       "</style>\n",
       "<table border=\"1\" class=\"dataframe\">\n",
       "  <thead>\n",
       "    <tr style=\"text-align: right;\">\n",
       "      <th></th>\n",
       "      <th>created_cx</th>\n",
       "      <th>created_non_cx</th>\n",
       "      <th>deleted_cx</th>\n",
       "      <th>deleted_non_cx</th>\n",
       "      <th>deleted_cx_pct</th>\n",
       "      <th>deleted_non_cx_pct</th>\n",
       "      <th>deletion_pct_diff</th>\n",
       "    </tr>\n",
       "    <tr>\n",
       "      <th>wiki_db</th>\n",
       "      <th></th>\n",
       "      <th></th>\n",
       "      <th></th>\n",
       "      <th></th>\n",
       "      <th></th>\n",
       "      <th></th>\n",
       "      <th></th>\n",
       "    </tr>\n",
       "  </thead>\n",
       "  <tbody>\n",
       "    <tr>\n",
       "      <th>kuwiki</th>\n",
       "      <td>22</td>\n",
       "      <td>15023</td>\n",
       "      <td>3</td>\n",
       "      <td>24</td>\n",
       "      <td>13.64</td>\n",
       "      <td>0.16</td>\n",
       "      <td>-13.48</td>\n",
       "    </tr>\n",
       "    <tr>\n",
       "      <th>svwiki</th>\n",
       "      <td>104</td>\n",
       "      <td>12910</td>\n",
       "      <td>19</td>\n",
       "      <td>1618</td>\n",
       "      <td>18.27</td>\n",
       "      <td>12.53</td>\n",
       "      <td>-5.74</td>\n",
       "    </tr>\n",
       "    <tr>\n",
       "      <th>ocwiki</th>\n",
       "      <td>45</td>\n",
       "      <td>1053</td>\n",
       "      <td>3</td>\n",
       "      <td>22</td>\n",
       "      <td>6.67</td>\n",
       "      <td>2.09</td>\n",
       "      <td>-4.58</td>\n",
       "    </tr>\n",
       "    <tr>\n",
       "      <th>dewiki</th>\n",
       "      <td>535</td>\n",
       "      <td>53710</td>\n",
       "      <td>89</td>\n",
       "      <td>6865</td>\n",
       "      <td>16.64</td>\n",
       "      <td>12.78</td>\n",
       "      <td>-3.86</td>\n",
       "    </tr>\n",
       "  </tbody>\n",
       "</table>\n",
       "</div>"
      ],
      "text/plain": [
       "         created_cx  created_non_cx  deleted_cx  deleted_non_cx  \\\n",
       "wiki_db                                                           \n",
       "kuwiki           22           15023           3              24   \n",
       "svwiki          104           12910          19            1618   \n",
       "ocwiki           45            1053           3              22   \n",
       "dewiki          535           53710          89            6865   \n",
       "\n",
       "         deleted_cx_pct  deleted_non_cx_pct  deletion_pct_diff  \n",
       "wiki_db                                                         \n",
       "kuwiki            13.64                0.16             -13.48  \n",
       "svwiki            18.27               12.53              -5.74  \n",
       "ocwiki             6.67                2.09              -4.58  \n",
       "dewiki            16.64               12.78              -3.86  "
      ]
     },
     "execution_count": 34,
     "metadata": {},
     "output_type": "execute_result"
    }
   ],
   "source": [
    "# wikis with high deletion ratio\n",
    "currq_high_deletion_ratio = deletion_stats_currq.query(\"\"\"deletion_pct_diff <= -2\"\"\").sort_values('deletion_pct_diff')\n",
    "currq_high_deletion_ratio"
   ]
  },
  {
   "cell_type": "markdown",
   "id": "a1ca0ef0-0058-43d4-af22-132eb75792c2",
   "metadata": {
    "tags": []
   },
   "source": [
    "## Previous-Quarter"
   ]
  },
  {
   "cell_type": "code",
   "execution_count": 26,
   "id": "22c0cf81-656c-4311-bc58-120555588139",
   "metadata": {},
   "outputs": [
    {
     "name": "stdout",
     "output_type": "stream",
     "text": [
      "During FY23-Q1, overall percentage of articles that were deleted,\n",
      "\t- created using the Content Translation tool: 5.22%\n",
      "\t- created without using the Content Translation Tool: 12.71%\n"
     ]
    }
   ],
   "source": [
    "# overal deletion percent\n",
    "dtf.overall_deletion_pct(deletion_stats_prevq_all, period='FY23-Q1', pr=True)"
   ]
  },
  {
   "cell_type": "code",
   "execution_count": 27,
   "id": "e2c285cb-81e7-4f5e-8281-8d00f2a0679e",
   "metadata": {},
   "outputs": [],
   "source": [
    "# deletion ratio by wiki\n",
    "deletion_stats_prevq = dtf.generate_ratios_by_wiki(deletion_stats_prevq_all)"
   ]
  },
  {
   "cell_type": "code",
   "execution_count": 35,
   "id": "8710184d-07cd-4e75-ac83-4cf34c53738b",
   "metadata": {},
   "outputs": [
    {
     "name": "stdout",
     "output_type": "stream",
     "text": [
      "During FY22-Q4, across all wikis where more than 15 articles have been created with the Content Translation tool,\n",
      "there were 14 wikis where the deletion rate of articles created using CX was atleast 2% higher than articles created without using CX.\n"
     ]
    }
   ],
   "source": [
    "print(f'During FY22-Q4, across all wikis where more than 15 articles have been created with the Content Translation tool,\\n\\\n",
    "there were {deletion_stats_prevq.query(\"\"\"deletion_pct_diff < -2\"\"\").shape[0]} wikis where the deletion rate of articles created \\\n",
    "using CX was atleast 2% higher than articles created without using CX.')"
   ]
  },
  {
   "cell_type": "code",
   "execution_count": 36,
   "id": "c46498bf-7564-4bcb-aee8-d68016a2ed55",
   "metadata": {},
   "outputs": [
    {
     "data": {
      "text/html": [
       "<div>\n",
       "<style scoped>\n",
       "    .dataframe tbody tr th:only-of-type {\n",
       "        vertical-align: middle;\n",
       "    }\n",
       "\n",
       "    .dataframe tbody tr th {\n",
       "        vertical-align: top;\n",
       "    }\n",
       "\n",
       "    .dataframe thead th {\n",
       "        text-align: right;\n",
       "    }\n",
       "</style>\n",
       "<table border=\"1\" class=\"dataframe\">\n",
       "  <thead>\n",
       "    <tr style=\"text-align: right;\">\n",
       "      <th></th>\n",
       "      <th>created_cx</th>\n",
       "      <th>created_non_cx</th>\n",
       "      <th>deleted_cx</th>\n",
       "      <th>deleted_non_cx</th>\n",
       "      <th>deleted_cx_pct</th>\n",
       "      <th>deleted_non_cx_pct</th>\n",
       "      <th>deletion_pct_diff</th>\n",
       "    </tr>\n",
       "    <tr>\n",
       "      <th>wiki_db</th>\n",
       "      <th></th>\n",
       "      <th></th>\n",
       "      <th></th>\n",
       "      <th></th>\n",
       "      <th></th>\n",
       "      <th></th>\n",
       "      <th></th>\n",
       "    </tr>\n",
       "  </thead>\n",
       "  <tbody>\n",
       "    <tr>\n",
       "      <th>aswiki</th>\n",
       "      <td>24</td>\n",
       "      <td>426</td>\n",
       "      <td>10</td>\n",
       "      <td>29</td>\n",
       "      <td>41.67</td>\n",
       "      <td>6.81</td>\n",
       "      <td>-34.86</td>\n",
       "    </tr>\n",
       "    <tr>\n",
       "      <th>kawiki</th>\n",
       "      <td>77</td>\n",
       "      <td>1326</td>\n",
       "      <td>33</td>\n",
       "      <td>234</td>\n",
       "      <td>42.86</td>\n",
       "      <td>17.65</td>\n",
       "      <td>-25.21</td>\n",
       "    </tr>\n",
       "    <tr>\n",
       "      <th>ltwiki</th>\n",
       "      <td>43</td>\n",
       "      <td>4126</td>\n",
       "      <td>13</td>\n",
       "      <td>272</td>\n",
       "      <td>30.23</td>\n",
       "      <td>6.59</td>\n",
       "      <td>-23.64</td>\n",
       "    </tr>\n",
       "    <tr>\n",
       "      <th>lawiki</th>\n",
       "      <td>16</td>\n",
       "      <td>603</td>\n",
       "      <td>4</td>\n",
       "      <td>49</td>\n",
       "      <td>25.00</td>\n",
       "      <td>8.13</td>\n",
       "      <td>-16.87</td>\n",
       "    </tr>\n",
       "    <tr>\n",
       "      <th>cebwiki</th>\n",
       "      <td>18</td>\n",
       "      <td>840</td>\n",
       "      <td>3</td>\n",
       "      <td>63</td>\n",
       "      <td>16.67</td>\n",
       "      <td>7.50</td>\n",
       "      <td>-9.17</td>\n",
       "    </tr>\n",
       "    <tr>\n",
       "      <th>ocwiki</th>\n",
       "      <td>36</td>\n",
       "      <td>794</td>\n",
       "      <td>3</td>\n",
       "      <td>14</td>\n",
       "      <td>8.33</td>\n",
       "      <td>1.76</td>\n",
       "      <td>-6.57</td>\n",
       "    </tr>\n",
       "    <tr>\n",
       "      <th>kuwiki</th>\n",
       "      <td>65</td>\n",
       "      <td>1023</td>\n",
       "      <td>5</td>\n",
       "      <td>18</td>\n",
       "      <td>7.69</td>\n",
       "      <td>1.76</td>\n",
       "      <td>-5.93</td>\n",
       "    </tr>\n",
       "    <tr>\n",
       "      <th>brwiki</th>\n",
       "      <td>21</td>\n",
       "      <td>2865</td>\n",
       "      <td>1</td>\n",
       "      <td>21</td>\n",
       "      <td>4.76</td>\n",
       "      <td>0.73</td>\n",
       "      <td>-4.03</td>\n",
       "    </tr>\n",
       "    <tr>\n",
       "      <th>lvwiki</th>\n",
       "      <td>35</td>\n",
       "      <td>3321</td>\n",
       "      <td>3</td>\n",
       "      <td>152</td>\n",
       "      <td>8.57</td>\n",
       "      <td>4.58</td>\n",
       "      <td>-3.99</td>\n",
       "    </tr>\n",
       "    <tr>\n",
       "      <th>uzwiki</th>\n",
       "      <td>4686</td>\n",
       "      <td>5801</td>\n",
       "      <td>1540</td>\n",
       "      <td>1726</td>\n",
       "      <td>32.86</td>\n",
       "      <td>29.75</td>\n",
       "      <td>-3.11</td>\n",
       "    </tr>\n",
       "    <tr>\n",
       "      <th>lbwiki</th>\n",
       "      <td>52</td>\n",
       "      <td>494</td>\n",
       "      <td>4</td>\n",
       "      <td>26</td>\n",
       "      <td>7.69</td>\n",
       "      <td>5.26</td>\n",
       "      <td>-2.43</td>\n",
       "    </tr>\n",
       "    <tr>\n",
       "      <th>bswiki</th>\n",
       "      <td>79</td>\n",
       "      <td>405</td>\n",
       "      <td>13</td>\n",
       "      <td>58</td>\n",
       "      <td>16.46</td>\n",
       "      <td>14.32</td>\n",
       "      <td>-2.14</td>\n",
       "    </tr>\n",
       "    <tr>\n",
       "      <th>mtwiki</th>\n",
       "      <td>55</td>\n",
       "      <td>185</td>\n",
       "      <td>2</td>\n",
       "      <td>3</td>\n",
       "      <td>3.64</td>\n",
       "      <td>1.62</td>\n",
       "      <td>-2.02</td>\n",
       "    </tr>\n",
       "    <tr>\n",
       "      <th>zh_yuewiki</th>\n",
       "      <td>36</td>\n",
       "      <td>2148</td>\n",
       "      <td>2</td>\n",
       "      <td>76</td>\n",
       "      <td>5.56</td>\n",
       "      <td>3.54</td>\n",
       "      <td>-2.02</td>\n",
       "    </tr>\n",
       "  </tbody>\n",
       "</table>\n",
       "</div>"
      ],
      "text/plain": [
       "            created_cx  created_non_cx  deleted_cx  deleted_non_cx  \\\n",
       "wiki_db                                                              \n",
       "aswiki              24             426          10              29   \n",
       "kawiki              77            1326          33             234   \n",
       "ltwiki              43            4126          13             272   \n",
       "lawiki              16             603           4              49   \n",
       "cebwiki             18             840           3              63   \n",
       "ocwiki              36             794           3              14   \n",
       "kuwiki              65            1023           5              18   \n",
       "brwiki              21            2865           1              21   \n",
       "lvwiki              35            3321           3             152   \n",
       "uzwiki            4686            5801        1540            1726   \n",
       "lbwiki              52             494           4              26   \n",
       "bswiki              79             405          13              58   \n",
       "mtwiki              55             185           2               3   \n",
       "zh_yuewiki          36            2148           2              76   \n",
       "\n",
       "            deleted_cx_pct  deleted_non_cx_pct  deletion_pct_diff  \n",
       "wiki_db                                                            \n",
       "aswiki               41.67                6.81             -34.86  \n",
       "kawiki               42.86               17.65             -25.21  \n",
       "ltwiki               30.23                6.59             -23.64  \n",
       "lawiki               25.00                8.13             -16.87  \n",
       "cebwiki              16.67                7.50              -9.17  \n",
       "ocwiki                8.33                1.76              -6.57  \n",
       "kuwiki                7.69                1.76              -5.93  \n",
       "brwiki                4.76                0.73              -4.03  \n",
       "lvwiki                8.57                4.58              -3.99  \n",
       "uzwiki               32.86               29.75              -3.11  \n",
       "lbwiki                7.69                5.26              -2.43  \n",
       "bswiki               16.46               14.32              -2.14  \n",
       "mtwiki                3.64                1.62              -2.02  \n",
       "zh_yuewiki            5.56                3.54              -2.02  "
      ]
     },
     "execution_count": 36,
     "metadata": {},
     "output_type": "execute_result"
    }
   ],
   "source": [
    "# wikis with high deletion ratio\n",
    "\n",
    "prevq_high_deletion_ratio = deletion_stats_prevq.query(\"\"\"deletion_pct_diff < -2\"\"\").sort_values('deletion_pct_diff')\n",
    "prevq_high_deletion_ratio"
   ]
  },
  {
   "cell_type": "code",
   "execution_count": 37,
   "id": "a4cbbdc1-b5f3-4f2d-926c-43ef72a665c5",
   "metadata": {},
   "outputs": [
    {
     "data": {
      "text/plain": [
       "array(['kuwiki', 'ocwiki'], dtype=object)"
      ]
     },
     "execution_count": 37,
     "metadata": {},
     "output_type": "execute_result"
    }
   ],
   "source": [
    "# wikis that had high deletion rates for articles that have been created with CX compared articles that have not been created using CX\n",
    "wikis_high_deletion_ratio = np.intersect1d(currq_high_deletion_ratio.index.values, prevq_high_deletion_ratio.index.values)\n",
    "wikis_high_deletion_ratio"
   ]
  },
  {
   "cell_type": "markdown",
   "id": "f2de896a-deb0-4d15-a105-46f47a32673c",
   "metadata": {
    "tags": []
   },
   "source": [
    "## Formatting\n",
    "for publication on Meta-Wiki at [Content translation/Deletion statistics comparison](https://www.mediawiki.org/wiki/Content_translation/Deletion_statistics_comparison)"
   ]
  },
  {
   "cell_type": "code",
   "execution_count": 38,
   "id": "3d418254-a68c-4a70-9201-9a447a824498",
   "metadata": {},
   "outputs": [],
   "source": [
    "currq_wtable = currq_high_deletion_ratio.copy()"
   ]
  },
  {
   "cell_type": "code",
   "execution_count": 39,
   "id": "9bee1792-17f2-40b8-b797-c6b6d87bbe98",
   "metadata": {},
   "outputs": [],
   "source": [
    "# format the percentage columns\n",
    "\n",
    "percentage_columns = ['deleted_cx_pct', 'deleted_non_cx_pct', 'deletion_pct_diff']\n",
    "currq_wtable[percentage_columns] = currq_wtable[percentage_columns]/100\n",
    "\n",
    "currq_wtable = (\n",
    "    currq_wtable\n",
    "    .assign(\n",
    "        deleted_cx_pct = ftf.format_percent('deleted_cx_pct', currq_wtable),\n",
    "        deleted_non_cx_pct = ftf.format_percent('deleted_non_cx_pct', currq_wtable),\n",
    "        deletion_pct_diff = ftf.format_percent('deletion_pct_diff', currq_wtable)\n",
    "    )\n",
    "    .reset_index()\n",
    ")"
   ]
  },
  {
   "cell_type": "code",
   "execution_count": 40,
   "id": "8d5e2434-3a21-4e9d-8ba2-e164e6583e0b",
   "metadata": {},
   "outputs": [],
   "source": [
    "# rename columns\n",
    "columns_rename_map = {\n",
    "    'wiki_db': 'Wikipedia',\n",
    "    'created_cx': 'Created CX Articles', \n",
    "    'created_non_cx': 'Created non-CX Articles', \n",
    "    'deleted_cx': 'Deleted CX Articles', \n",
    "    'deleted_non_cx': 'Deleted non-CX Articles',\n",
    "    'deleted_cx_pct': 'CX Articles Deletion Ratio', \n",
    "    'deleted_non_cx_pct': 'Non-CX Articles Deletion Ratio', \n",
    "    'deletion_pct_diff': 'Deletion Ratio Difference'\n",
    "}\n",
    "\n",
    "currq_wtable.rename(columns_rename_map, axis=1, inplace=True)"
   ]
  },
  {
   "cell_type": "code",
   "execution_count": 41,
   "id": "baea4141-cf5a-4399-9aa9-b55e9d4958c8",
   "metadata": {},
   "outputs": [
    {
     "data": {
      "text/html": [
       "<div>\n",
       "<style scoped>\n",
       "    .dataframe tbody tr th:only-of-type {\n",
       "        vertical-align: middle;\n",
       "    }\n",
       "\n",
       "    .dataframe tbody tr th {\n",
       "        vertical-align: top;\n",
       "    }\n",
       "\n",
       "    .dataframe thead tr th {\n",
       "        text-align: left;\n",
       "    }\n",
       "</style>\n",
       "<table border=\"1\" class=\"dataframe\">\n",
       "  <thead>\n",
       "    <tr>\n",
       "      <th></th>\n",
       "      <th>Wikipedia</th>\n",
       "      <th colspan=\"2\" halign=\"left\">Created Articles</th>\n",
       "      <th colspan=\"2\" halign=\"left\">Deleted Articles</th>\n",
       "      <th colspan=\"3\" halign=\"left\">Deletion Ratios</th>\n",
       "    </tr>\n",
       "    <tr>\n",
       "      <th></th>\n",
       "      <th>Wikipedia</th>\n",
       "      <th>Created CX Articles</th>\n",
       "      <th>Created non-CX Articles</th>\n",
       "      <th>Deleted CX Articles</th>\n",
       "      <th>Deleted non-CX Articles</th>\n",
       "      <th>CX Articles Deletion Ratio</th>\n",
       "      <th>Non-CX Articles Deletion Ratio</th>\n",
       "      <th>Deletion Ratio Difference</th>\n",
       "    </tr>\n",
       "  </thead>\n",
       "  <tbody>\n",
       "    <tr>\n",
       "      <th>0</th>\n",
       "      <td>kuwiki</td>\n",
       "      <td>22</td>\n",
       "      <td>15023</td>\n",
       "      <td>3</td>\n",
       "      <td>24</td>\n",
       "      <td>13.64%</td>\n",
       "      <td>0.16%</td>\n",
       "      <td>-13.48%</td>\n",
       "    </tr>\n",
       "    <tr>\n",
       "      <th>1</th>\n",
       "      <td>svwiki</td>\n",
       "      <td>104</td>\n",
       "      <td>12910</td>\n",
       "      <td>19</td>\n",
       "      <td>1618</td>\n",
       "      <td>18.27%</td>\n",
       "      <td>12.53%</td>\n",
       "      <td>-5.74%</td>\n",
       "    </tr>\n",
       "    <tr>\n",
       "      <th>2</th>\n",
       "      <td>ocwiki</td>\n",
       "      <td>45</td>\n",
       "      <td>1053</td>\n",
       "      <td>3</td>\n",
       "      <td>22</td>\n",
       "      <td>6.67%</td>\n",
       "      <td>2.09%</td>\n",
       "      <td>-4.58%</td>\n",
       "    </tr>\n",
       "    <tr>\n",
       "      <th>3</th>\n",
       "      <td>dewiki</td>\n",
       "      <td>535</td>\n",
       "      <td>53710</td>\n",
       "      <td>89</td>\n",
       "      <td>6865</td>\n",
       "      <td>16.64%</td>\n",
       "      <td>12.78%</td>\n",
       "      <td>-3.86%</td>\n",
       "    </tr>\n",
       "  </tbody>\n",
       "</table>\n",
       "</div>"
      ],
      "text/plain": [
       "  Wikipedia    Created Articles                            Deleted Articles  \\\n",
       "  Wikipedia Created CX Articles Created non-CX Articles Deleted CX Articles   \n",
       "0    kuwiki                  22                   15023                   3   \n",
       "1    svwiki                 104                   12910                  19   \n",
       "2    ocwiki                  45                    1053                   3   \n",
       "3    dewiki                 535                   53710                  89   \n",
       "\n",
       "                                     Deletion Ratios  \\\n",
       "  Deleted non-CX Articles CX Articles Deletion Ratio   \n",
       "0                      24                     13.64%   \n",
       "1                    1618                     18.27%   \n",
       "2                      22                      6.67%   \n",
       "3                    6865                     16.64%   \n",
       "\n",
       "                                                            \n",
       "  Non-CX Articles Deletion Ratio Deletion Ratio Difference  \n",
       "0                          0.16%                   -13.48%  \n",
       "1                         12.53%                    -5.74%  \n",
       "2                          2.09%                    -4.58%  \n",
       "3                         12.78%                    -3.86%  "
      ]
     },
     "execution_count": 41,
     "metadata": {},
     "output_type": "execute_result"
    }
   ],
   "source": [
    "# create a multi-level column\n",
    "column_arrays = [\n",
    "    np.array(['Wikipedia'] + ['Created Articles'] * 2 + ['Deleted Articles'] * 2 + ['Deletion Ratios'] * 3),\n",
    "    currq_wtable.columns.to_numpy()\n",
    "]\n",
    "\n",
    "currq_wtable.columns = pd.MultiIndex.from_arrays(column_arrays)\n",
    "\n",
    "currq_wtable.head()"
   ]
  },
  {
   "cell_type": "code",
   "execution_count": 42,
   "id": "b0c63d0a-790e-4e7b-bde5-735685f07c7b",
   "metadata": {},
   "outputs": [],
   "source": [
    "# add footnote (as superscript) for wikis that had high deletion ratio for article created using CX during the last quarter as well\n",
    "currq_wtable[('Wikipedia', 'Wikipedia')] = currq_wtable[('Wikipedia', 'Wikipedia')].apply(lambda x:ftf.add_footnote(x, wikis_high_deletion_ratio))"
   ]
  },
  {
   "cell_type": "code",
   "execution_count": 44,
   "id": "9928fe0c-4a16-4309-ae99-e87510c65e7b",
   "metadata": {},
   "outputs": [],
   "source": [
    "table_headers = [\n",
    "    'Wikipedias with higher deletion ratios for articles created with Content Translation',\n",
    "    'Reviewed Time Period: October through December 2023 (FY 23 Q2)'\n",
    "]\n",
    "\n",
    "table_footers = [\n",
    "    '<sup>1</sup> Excludes Wikipedias with 15 or fewer articles created with Content Translation during the reviewed time period.',\n",
    "    '<sup>2</sup> Also identified in the prior quarter as a wiki with a higher deletion ratio for articles created with Content Translation.'\n",
    "]"
   ]
  },
  {
   "cell_type": "code",
   "execution_count": 45,
   "id": "97f0078e-4d8c-4cce-a09e-381b4e88d3cc",
   "metadata": {},
   "outputs": [
    {
     "name": "stdout",
     "output_type": "stream",
     "text": [
      "{| class='wikitable'\n",
      "! colspan='8' | Wikipedias with higher deletion ratios for articles created with Content Translation\n",
      "! colspan='8' | Reviewed Time Period: October through December 2023 (FY 23 Q2)\n",
      "|-\n",
      "colspan='1' | Wikipedia !! colspan='2' | Created Articles !! colspan='2' | Deleted Articles !! colspan='3' | Deletion Ratios\n",
      "colspan='1' | Wikipedia !! colspan='1' | Created CX Articles !! colspan='1' | Created non-CX Articles !! colspan='1' | Deleted CX Articles !! colspan='1' | Deleted non-CX Articles !! colspan='1' | CX Articles Deletion Ratio !! colspan='1' | Non-CX Articles Deletion Ratio !! colspan='1' | Deletion Ratio Difference\n",
      "|-\n",
      "| kuwiki<sup>2</sup> || 22 || 15023 || 3 || 24 || 13.64% || 0.16% || -13.48%\n",
      "|-\n",
      "| svwiki || 104 || 12910 || 19 || 1618 || 18.27% || 12.53% || -5.74%\n",
      "|-\n",
      "| ocwiki<sup>2</sup> || 45 || 1053 || 3 || 22 || 6.67% || 2.09% || -4.58%\n",
      "|-\n",
      "| dewiki || 535 || 53710 || 89 || 6865 || 16.64% || 12.78% || -3.86%\n",
      "|-\n",
      "| style=\"text-align:left;\" colspan='8' | <sup>1</sup> Excludes Wikipedias with 15 or fewer articles created with Content Translation during the reviewed time period.\n",
      "| style=\"text-align:left;\" colspan='8' | <sup>2</sup> Also identified in the prior quarter as a wiki with a higher deletion ratio for articles created with Content Translation.\n",
      "|-\n",
      "|}\n"
     ]
    }
   ],
   "source": [
    "# to be published at https://www.mediawiki.org/wiki/Content_translation/Deletion_statistics_comparison\n",
    "print(ftf.dataframe_to_mediawiki(currq_wtable, table_headers, table_footers))"
   ]
  }
 ],
 "metadata": {
  "kernelspec": {
   "display_name": "Python 3 (ipykernel)",
   "language": "python",
   "name": "python3"
  },
  "language_info": {
   "codemirror_mode": {
    "name": "ipython",
    "version": 3
   },
   "file_extension": ".py",
   "mimetype": "text/x-python",
   "name": "python",
   "nbconvert_exporter": "python",
   "pygments_lexer": "ipython3",
   "version": "3.10.8"
  }
 },
 "nbformat": 4,
 "nbformat_minor": 5
}
